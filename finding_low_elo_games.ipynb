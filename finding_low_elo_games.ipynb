{
 "cells": [
  {
   "cell_type": "code",
   "execution_count": 2,
   "metadata": {},
   "outputs": [],
   "source": [
    "import pandas as pd\n",
    "import numpy as np\n",
    "import chess.pgn"
   ]
  },
  {
   "cell_type": "code",
   "execution_count": 3,
   "metadata": {},
   "outputs": [],
   "source": [
    "\n",
    "fields = ['[Event \"FICS rated standard game\"]', '[Site \"FICS freechess.org\"]', '[FICSGamesDBGameNo \"430765294\"]', '[Black \"youngwalrus\"]', \n",
    "          '[WhiteElo \"1679\"]', '[BlackElo \"1818\"]', '[WhiteRD \"40.7\"]', '[BlackRD \"36.9\"]', '[TimeControl \"720+10\"]', \n",
    "          '[Date \"2018.01.31\"]', '[Time \"23:29:00\"]', '[WhiteClock \"0:12:00.000\"]','[BlackClock \"0:12:00.000\"]',\n",
    "          '[ECO \"D06\"]', '[PlyCount \"68\"]', '[Result \"0-1\"]', '1. d4 d5 2. c4 Nf6 3. Nf3 Bf5 4. Qb3 Nfd7 5. cxd5 Nb6 6. Nc3 N8d7 7. e4 Bg6 8. Bb5 a6 9. Bxd7+ Qxd7 10. Ne5 Qd6 11. O-O f6 12. Nc4 Nxc4 13. Qxc4 O-O-O 14. g3 Bf7 15. Bf4 Qd7 16. Rfc1 g5 17. Be3 h6 18. a4 Kb8 19. b4 e5 20. b5 a5 21. Na2 Bd6 22. Rab1 b6 23. Rc2 Bg6 24. f3 g4 25. Qe2 Rdf8 26. Bf2 f5 27. exf5 Bxf5 28. dxe5 Bxc2 29. Qxc2 Bxe5 30. f4 Bd6 31. Nc3 Re8 32. Rc1 Qe7 33. Re1 Qf7 34. Rc1 Rc8 {White forfeits on time} 0-1']"
   ]
  },
  {
   "cell_type": "code",
   "execution_count": 4,
   "metadata": {},
   "outputs": [],
   "source": [
    "#https://www.ficsgames.org/download.html"
   ]
  },
  {
   "cell_type": "code",
   "execution_count": 5,
   "metadata": {},
   "outputs": [],
   "source": [
    "df = pd.read_csv(\"ficsgamesdb_2017_standard_nomovetimes_34352.pgn.bz2\", header=None)"
   ]
  },
  {
   "cell_type": "code",
   "execution_count": 8,
   "metadata": {},
   "outputs": [
    {
     "data": {
      "text/html": [
       "<div>\n",
       "<style scoped>\n",
       "    .dataframe tbody tr th:only-of-type {\n",
       "        vertical-align: middle;\n",
       "    }\n",
       "\n",
       "    .dataframe tbody tr th {\n",
       "        vertical-align: top;\n",
       "    }\n",
       "\n",
       "    .dataframe thead th {\n",
       "        text-align: right;\n",
       "    }\n",
       "</style>\n",
       "<table border=\"1\" class=\"dataframe\">\n",
       "  <thead>\n",
       "    <tr style=\"text-align: right;\">\n",
       "      <th></th>\n",
       "      <th>0</th>\n",
       "    </tr>\n",
       "  </thead>\n",
       "  <tbody>\n",
       "    <tr>\n",
       "      <th>0</th>\n",
       "      <td>[Event \"FICS rated standard game\"]</td>\n",
       "    </tr>\n",
       "    <tr>\n",
       "      <th>1</th>\n",
       "      <td>[Site \"FICS freechess.org\"]</td>\n",
       "    </tr>\n",
       "    <tr>\n",
       "      <th>2</th>\n",
       "      <td>[FICSGamesDBGameNo \"430003319\"]</td>\n",
       "    </tr>\n",
       "    <tr>\n",
       "      <th>3</th>\n",
       "      <td>[White \"gogoedos\"]</td>\n",
       "    </tr>\n",
       "    <tr>\n",
       "      <th>4</th>\n",
       "      <td>[Black \"surios\"]</td>\n",
       "    </tr>\n",
       "    <tr>\n",
       "      <th>5</th>\n",
       "      <td>[WhiteElo \"1740\"]</td>\n",
       "    </tr>\n",
       "    <tr>\n",
       "      <th>6</th>\n",
       "      <td>[BlackElo \"1712\"]</td>\n",
       "    </tr>\n",
       "    <tr>\n",
       "      <th>7</th>\n",
       "      <td>[WhiteRD \"47.1\"]</td>\n",
       "    </tr>\n",
       "    <tr>\n",
       "      <th>8</th>\n",
       "      <td>[BlackRD \"33.1\"]</td>\n",
       "    </tr>\n",
       "    <tr>\n",
       "      <th>9</th>\n",
       "      <td>[TimeControl \"900+0\"]</td>\n",
       "    </tr>\n",
       "    <tr>\n",
       "      <th>10</th>\n",
       "      <td>[Date \"2017.12.31\"]</td>\n",
       "    </tr>\n",
       "    <tr>\n",
       "      <th>11</th>\n",
       "      <td>[Time \"23:51:00\"]</td>\n",
       "    </tr>\n",
       "    <tr>\n",
       "      <th>12</th>\n",
       "      <td>[WhiteClock \"0:15:00.000\"]</td>\n",
       "    </tr>\n",
       "    <tr>\n",
       "      <th>13</th>\n",
       "      <td>[BlackClock \"0:15:00.000\"]</td>\n",
       "    </tr>\n",
       "    <tr>\n",
       "      <th>14</th>\n",
       "      <td>[ECO \"A45\"]</td>\n",
       "    </tr>\n",
       "    <tr>\n",
       "      <th>15</th>\n",
       "      <td>[PlyCount \"59\"]</td>\n",
       "    </tr>\n",
       "    <tr>\n",
       "      <th>16</th>\n",
       "      <td>[Result \"1-0\"]</td>\n",
       "    </tr>\n",
       "    <tr>\n",
       "      <th>17</th>\n",
       "      <td>1. d4 Nf6 2. Bg5 Ne4 3. Bh4 g5 4. Bg3 Nxg3 5. ...</td>\n",
       "    </tr>\n",
       "    <tr>\n",
       "      <th>18</th>\n",
       "      <td>[Event \"FICS rated standard game\"]</td>\n",
       "    </tr>\n",
       "    <tr>\n",
       "      <th>19</th>\n",
       "      <td>[Site \"FICS freechess.org\"]</td>\n",
       "    </tr>\n",
       "    <tr>\n",
       "      <th>20</th>\n",
       "      <td>[FICSGamesDBGameNo \"430003305\"]</td>\n",
       "    </tr>\n",
       "    <tr>\n",
       "      <th>21</th>\n",
       "      <td>[White \"bartab\"]</td>\n",
       "    </tr>\n",
       "    <tr>\n",
       "      <th>22</th>\n",
       "      <td>[Black \"Apizel\"]</td>\n",
       "    </tr>\n",
       "    <tr>\n",
       "      <th>23</th>\n",
       "      <td>[WhiteElo \"1551\"]</td>\n",
       "    </tr>\n",
       "    <tr>\n",
       "      <th>24</th>\n",
       "      <td>[BlackElo \"1273\"]</td>\n",
       "    </tr>\n",
       "    <tr>\n",
       "      <th>25</th>\n",
       "      <td>[WhiteRD \"30.1\"]</td>\n",
       "    </tr>\n",
       "    <tr>\n",
       "      <th>26</th>\n",
       "      <td>[BlackRD \"40.7\"]</td>\n",
       "    </tr>\n",
       "    <tr>\n",
       "      <th>27</th>\n",
       "      <td>[TimeControl \"720+10\"]</td>\n",
       "    </tr>\n",
       "    <tr>\n",
       "      <th>28</th>\n",
       "      <td>[Date \"2017.12.31\"]</td>\n",
       "    </tr>\n",
       "    <tr>\n",
       "      <th>29</th>\n",
       "      <td>[Time \"23:38:00\"]</td>\n",
       "    </tr>\n",
       "    <tr>\n",
       "      <th>30</th>\n",
       "      <td>[WhiteClock \"0:12:00.000\"]</td>\n",
       "    </tr>\n",
       "    <tr>\n",
       "      <th>31</th>\n",
       "      <td>[BlackClock \"0:12:00.000\"]</td>\n",
       "    </tr>\n",
       "    <tr>\n",
       "      <th>32</th>\n",
       "      <td>[ECO \"C42\"]</td>\n",
       "    </tr>\n",
       "    <tr>\n",
       "      <th>33</th>\n",
       "      <td>[PlyCount \"84\"]</td>\n",
       "    </tr>\n",
       "    <tr>\n",
       "      <th>34</th>\n",
       "      <td>[Result \"0-1\"]</td>\n",
       "    </tr>\n",
       "    <tr>\n",
       "      <th>35</th>\n",
       "      <td>1. e4 e5 2. Bc4 Nf6 3. Nf3 h6 4. Nxe5 d5 5. ex...</td>\n",
       "    </tr>\n",
       "  </tbody>\n",
       "</table>\n",
       "</div>"
      ],
      "text/plain": [
       "                                                    0\n",
       "0                  [Event \"FICS rated standard game\"]\n",
       "1                         [Site \"FICS freechess.org\"]\n",
       "2                     [FICSGamesDBGameNo \"430003319\"]\n",
       "3                                  [White \"gogoedos\"]\n",
       "4                                    [Black \"surios\"]\n",
       "5                                   [WhiteElo \"1740\"]\n",
       "6                                   [BlackElo \"1712\"]\n",
       "7                                    [WhiteRD \"47.1\"]\n",
       "8                                    [BlackRD \"33.1\"]\n",
       "9                               [TimeControl \"900+0\"]\n",
       "10                                [Date \"2017.12.31\"]\n",
       "11                                  [Time \"23:51:00\"]\n",
       "12                         [WhiteClock \"0:15:00.000\"]\n",
       "13                         [BlackClock \"0:15:00.000\"]\n",
       "14                                        [ECO \"A45\"]\n",
       "15                                    [PlyCount \"59\"]\n",
       "16                                     [Result \"1-0\"]\n",
       "17  1. d4 Nf6 2. Bg5 Ne4 3. Bh4 g5 4. Bg3 Nxg3 5. ...\n",
       "18                 [Event \"FICS rated standard game\"]\n",
       "19                        [Site \"FICS freechess.org\"]\n",
       "20                    [FICSGamesDBGameNo \"430003305\"]\n",
       "21                                   [White \"bartab\"]\n",
       "22                                   [Black \"Apizel\"]\n",
       "23                                  [WhiteElo \"1551\"]\n",
       "24                                  [BlackElo \"1273\"]\n",
       "25                                   [WhiteRD \"30.1\"]\n",
       "26                                   [BlackRD \"40.7\"]\n",
       "27                             [TimeControl \"720+10\"]\n",
       "28                                [Date \"2017.12.31\"]\n",
       "29                                  [Time \"23:38:00\"]\n",
       "30                         [WhiteClock \"0:12:00.000\"]\n",
       "31                         [BlackClock \"0:12:00.000\"]\n",
       "32                                        [ECO \"C42\"]\n",
       "33                                    [PlyCount \"84\"]\n",
       "34                                     [Result \"0-1\"]\n",
       "35  1. e4 e5 2. Bc4 Nf6 3. Nf3 h6 4. Nxe5 d5 5. ex..."
      ]
     },
     "execution_count": 8,
     "metadata": {},
     "output_type": "execute_result"
    }
   ],
   "source": [
    "df[:36]"
   ]
  },
  {
   "cell_type": "code",
   "execution_count": 9,
   "metadata": {},
   "outputs": [],
   "source": [
    "a = df[0].values\n",
    "len(a)\n",
    "df[:1800].to_csv(\"a.csv\")"
   ]
  },
  {
   "cell_type": "code",
   "execution_count": 10,
   "metadata": {},
   "outputs": [
    {
     "ename": "ValueError",
     "evalue": "cannot reshape array of size 19097886 into shape (1123405,17)",
     "output_type": "error",
     "traceback": [
      "\u001b[1;31m---------------------------------------------------------------------------\u001b[0m",
      "\u001b[1;31mValueError\u001b[0m                                Traceback (most recent call last)",
      "\u001b[1;32m<ipython-input-10-b5bc0f2e99dd>\u001b[0m in \u001b[0;36m<module>\u001b[1;34m()\u001b[0m\n\u001b[1;32m----> 1\u001b[1;33m \u001b[0mb\u001b[0m \u001b[1;33m=\u001b[0m \u001b[0mpd\u001b[0m\u001b[1;33m.\u001b[0m\u001b[0mDataFrame\u001b[0m\u001b[1;33m(\u001b[0m\u001b[0mnp\u001b[0m\u001b[1;33m.\u001b[0m\u001b[0mreshape\u001b[0m\u001b[1;33m(\u001b[0m\u001b[0ma\u001b[0m\u001b[1;33m,\u001b[0m\u001b[1;33m(\u001b[0m\u001b[1;36m1123405\u001b[0m\u001b[1;33m,\u001b[0m\u001b[1;36m17\u001b[0m\u001b[1;33m)\u001b[0m\u001b[1;33m)\u001b[0m\u001b[1;33m)\u001b[0m\u001b[1;33m\u001b[0m\u001b[0m\n\u001b[0m",
      "\u001b[1;32m~\\Anaconda3\\lib\\site-packages\\numpy\\core\\fromnumeric.py\u001b[0m in \u001b[0;36mreshape\u001b[1;34m(a, newshape, order)\u001b[0m\n\u001b[0;32m    255\u001b[0m            [5, 6]])\n\u001b[0;32m    256\u001b[0m     \"\"\"\n\u001b[1;32m--> 257\u001b[1;33m     \u001b[1;32mreturn\u001b[0m \u001b[0m_wrapfunc\u001b[0m\u001b[1;33m(\u001b[0m\u001b[0ma\u001b[0m\u001b[1;33m,\u001b[0m \u001b[1;34m'reshape'\u001b[0m\u001b[1;33m,\u001b[0m \u001b[0mnewshape\u001b[0m\u001b[1;33m,\u001b[0m \u001b[0morder\u001b[0m\u001b[1;33m=\u001b[0m\u001b[0morder\u001b[0m\u001b[1;33m)\u001b[0m\u001b[1;33m\u001b[0m\u001b[0m\n\u001b[0m\u001b[0;32m    258\u001b[0m \u001b[1;33m\u001b[0m\u001b[0m\n\u001b[0;32m    259\u001b[0m \u001b[1;33m\u001b[0m\u001b[0m\n",
      "\u001b[1;32m~\\Anaconda3\\lib\\site-packages\\numpy\\core\\fromnumeric.py\u001b[0m in \u001b[0;36m_wrapfunc\u001b[1;34m(obj, method, *args, **kwds)\u001b[0m\n\u001b[0;32m     50\u001b[0m \u001b[1;32mdef\u001b[0m \u001b[0m_wrapfunc\u001b[0m\u001b[1;33m(\u001b[0m\u001b[0mobj\u001b[0m\u001b[1;33m,\u001b[0m \u001b[0mmethod\u001b[0m\u001b[1;33m,\u001b[0m \u001b[1;33m*\u001b[0m\u001b[0margs\u001b[0m\u001b[1;33m,\u001b[0m \u001b[1;33m**\u001b[0m\u001b[0mkwds\u001b[0m\u001b[1;33m)\u001b[0m\u001b[1;33m:\u001b[0m\u001b[1;33m\u001b[0m\u001b[0m\n\u001b[0;32m     51\u001b[0m     \u001b[1;32mtry\u001b[0m\u001b[1;33m:\u001b[0m\u001b[1;33m\u001b[0m\u001b[0m\n\u001b[1;32m---> 52\u001b[1;33m         \u001b[1;32mreturn\u001b[0m \u001b[0mgetattr\u001b[0m\u001b[1;33m(\u001b[0m\u001b[0mobj\u001b[0m\u001b[1;33m,\u001b[0m \u001b[0mmethod\u001b[0m\u001b[1;33m)\u001b[0m\u001b[1;33m(\u001b[0m\u001b[1;33m*\u001b[0m\u001b[0margs\u001b[0m\u001b[1;33m,\u001b[0m \u001b[1;33m**\u001b[0m\u001b[0mkwds\u001b[0m\u001b[1;33m)\u001b[0m\u001b[1;33m\u001b[0m\u001b[0m\n\u001b[0m\u001b[0;32m     53\u001b[0m \u001b[1;33m\u001b[0m\u001b[0m\n\u001b[0;32m     54\u001b[0m     \u001b[1;31m# An AttributeError occurs if the object does not have\u001b[0m\u001b[1;33m\u001b[0m\u001b[1;33m\u001b[0m\u001b[0m\n",
      "\u001b[1;31mValueError\u001b[0m: cannot reshape array of size 19097886 into shape (1123405,17)"
     ]
    }
   ],
   "source": [
    "b = pd.DataFrame(np.reshape(a,(1123405,17)))"
   ]
  },
  {
   "cell_type": "code",
   "execution_count": 11,
   "metadata": {},
   "outputs": [
    {
     "ename": "NameError",
     "evalue": "name 'b' is not defined",
     "output_type": "error",
     "traceback": [
      "\u001b[1;31m---------------------------------------------------------------------------\u001b[0m",
      "\u001b[1;31mNameError\u001b[0m                                 Traceback (most recent call last)",
      "\u001b[1;32m<ipython-input-11-89e6c98d9288>\u001b[0m in \u001b[0;36m<module>\u001b[1;34m()\u001b[0m\n\u001b[1;32m----> 1\u001b[1;33m \u001b[0mb\u001b[0m\u001b[1;33m\u001b[0m\u001b[0m\n\u001b[0m",
      "\u001b[1;31mNameError\u001b[0m: name 'b' is not defined"
     ]
    }
   ],
   "source": [
    "b"
   ]
  },
  {
   "cell_type": "code",
   "execution_count": null,
   "metadata": {},
   "outputs": [],
   "source": []
  },
  {
   "cell_type": "code",
   "execution_count": 12,
   "metadata": {},
   "outputs": [
    {
     "ename": "ValueError",
     "evalue": "The truth value of a Series is ambiguous. Use a.empty, a.bool(), a.item(), a.any() or a.all().",
     "output_type": "error",
     "traceback": [
      "\u001b[1;31m---------------------------------------------------------------------------\u001b[0m",
      "\u001b[1;31mValueError\u001b[0m                                Traceback (most recent call last)",
      "\u001b[1;32m<ipython-input-12-e6e74c81ee33>\u001b[0m in \u001b[0;36m<module>\u001b[1;34m()\u001b[0m\n\u001b[1;32m----> 1\u001b[1;33m \u001b[0mdf\u001b[0m\u001b[1;33m[\u001b[0m\u001b[1;36m0\u001b[0m\u001b[1;33m]\u001b[0m \u001b[1;33m=\u001b[0m \u001b[0mdf\u001b[0m\u001b[1;33m[\u001b[0m\u001b[1;36m0\u001b[0m\u001b[1;33m]\u001b[0m\u001b[1;33m.\u001b[0m\u001b[0mapply\u001b[0m\u001b[1;33m(\u001b[0m\u001b[1;32mlambda\u001b[0m \u001b[0mx\u001b[0m \u001b[1;33m:\u001b[0m \u001b[0mNaN\u001b[0m \u001b[1;32mif\u001b[0m \u001b[0mdf\u001b[0m\u001b[1;33m[\u001b[0m\u001b[1;36m0\u001b[0m\u001b[1;33m]\u001b[0m\u001b[1;33m.\u001b[0m\u001b[0mstr\u001b[0m\u001b[1;33m.\u001b[0m\u001b[0mcontains\u001b[0m\u001b[1;33m(\u001b[0m\u001b[1;34m\"BlackisComp\"\u001b[0m\u001b[1;33m,\u001b[0m \u001b[0mregex\u001b[0m\u001b[1;33m=\u001b[0m\u001b[1;32mFalse\u001b[0m\u001b[1;33m)\u001b[0m \u001b[1;32melse\u001b[0m \u001b[0mdf\u001b[0m\u001b[1;33m[\u001b[0m\u001b[1;36m0\u001b[0m\u001b[1;33m]\u001b[0m\u001b[1;33m)\u001b[0m\u001b[1;33m\u001b[0m\u001b[0m\n\u001b[0m",
      "\u001b[1;32m~\\Anaconda3\\lib\\site-packages\\pandas\\core\\series.py\u001b[0m in \u001b[0;36mapply\u001b[1;34m(self, func, convert_dtype, args, **kwds)\u001b[0m\n\u001b[0;32m   3190\u001b[0m             \u001b[1;32melse\u001b[0m\u001b[1;33m:\u001b[0m\u001b[1;33m\u001b[0m\u001b[0m\n\u001b[0;32m   3191\u001b[0m                 \u001b[0mvalues\u001b[0m \u001b[1;33m=\u001b[0m \u001b[0mself\u001b[0m\u001b[1;33m.\u001b[0m\u001b[0mastype\u001b[0m\u001b[1;33m(\u001b[0m\u001b[0mobject\u001b[0m\u001b[1;33m)\u001b[0m\u001b[1;33m.\u001b[0m\u001b[0mvalues\u001b[0m\u001b[1;33m\u001b[0m\u001b[0m\n\u001b[1;32m-> 3192\u001b[1;33m                 \u001b[0mmapped\u001b[0m \u001b[1;33m=\u001b[0m \u001b[0mlib\u001b[0m\u001b[1;33m.\u001b[0m\u001b[0mmap_infer\u001b[0m\u001b[1;33m(\u001b[0m\u001b[0mvalues\u001b[0m\u001b[1;33m,\u001b[0m \u001b[0mf\u001b[0m\u001b[1;33m,\u001b[0m \u001b[0mconvert\u001b[0m\u001b[1;33m=\u001b[0m\u001b[0mconvert_dtype\u001b[0m\u001b[1;33m)\u001b[0m\u001b[1;33m\u001b[0m\u001b[0m\n\u001b[0m\u001b[0;32m   3193\u001b[0m \u001b[1;33m\u001b[0m\u001b[0m\n\u001b[0;32m   3194\u001b[0m         \u001b[1;32mif\u001b[0m \u001b[0mlen\u001b[0m\u001b[1;33m(\u001b[0m\u001b[0mmapped\u001b[0m\u001b[1;33m)\u001b[0m \u001b[1;32mand\u001b[0m \u001b[0misinstance\u001b[0m\u001b[1;33m(\u001b[0m\u001b[0mmapped\u001b[0m\u001b[1;33m[\u001b[0m\u001b[1;36m0\u001b[0m\u001b[1;33m]\u001b[0m\u001b[1;33m,\u001b[0m \u001b[0mSeries\u001b[0m\u001b[1;33m)\u001b[0m\u001b[1;33m:\u001b[0m\u001b[1;33m\u001b[0m\u001b[0m\n",
      "\u001b[1;32mpandas/_libs/src\\inference.pyx\u001b[0m in \u001b[0;36mpandas._libs.lib.map_infer\u001b[1;34m()\u001b[0m\n",
      "\u001b[1;32m<ipython-input-12-e6e74c81ee33>\u001b[0m in \u001b[0;36m<lambda>\u001b[1;34m(x)\u001b[0m\n\u001b[1;32m----> 1\u001b[1;33m \u001b[0mdf\u001b[0m\u001b[1;33m[\u001b[0m\u001b[1;36m0\u001b[0m\u001b[1;33m]\u001b[0m \u001b[1;33m=\u001b[0m \u001b[0mdf\u001b[0m\u001b[1;33m[\u001b[0m\u001b[1;36m0\u001b[0m\u001b[1;33m]\u001b[0m\u001b[1;33m.\u001b[0m\u001b[0mapply\u001b[0m\u001b[1;33m(\u001b[0m\u001b[1;32mlambda\u001b[0m \u001b[0mx\u001b[0m \u001b[1;33m:\u001b[0m \u001b[0mNaN\u001b[0m \u001b[1;32mif\u001b[0m \u001b[0mdf\u001b[0m\u001b[1;33m[\u001b[0m\u001b[1;36m0\u001b[0m\u001b[1;33m]\u001b[0m\u001b[1;33m.\u001b[0m\u001b[0mstr\u001b[0m\u001b[1;33m.\u001b[0m\u001b[0mcontains\u001b[0m\u001b[1;33m(\u001b[0m\u001b[1;34m\"BlackisComp\"\u001b[0m\u001b[1;33m,\u001b[0m \u001b[0mregex\u001b[0m\u001b[1;33m=\u001b[0m\u001b[1;32mFalse\u001b[0m\u001b[1;33m)\u001b[0m \u001b[1;32melse\u001b[0m \u001b[0mdf\u001b[0m\u001b[1;33m[\u001b[0m\u001b[1;36m0\u001b[0m\u001b[1;33m]\u001b[0m\u001b[1;33m)\u001b[0m\u001b[1;33m\u001b[0m\u001b[0m\n\u001b[0m",
      "\u001b[1;32m~\\Anaconda3\\lib\\site-packages\\pandas\\core\\generic.py\u001b[0m in \u001b[0;36m__nonzero__\u001b[1;34m(self)\u001b[0m\n\u001b[0;32m   1571\u001b[0m         raise ValueError(\"The truth value of a {0} is ambiguous. \"\n\u001b[0;32m   1572\u001b[0m                          \u001b[1;34m\"Use a.empty, a.bool(), a.item(), a.any() or a.all().\"\u001b[0m\u001b[1;33m\u001b[0m\u001b[0m\n\u001b[1;32m-> 1573\u001b[1;33m                          .format(self.__class__.__name__))\n\u001b[0m\u001b[0;32m   1574\u001b[0m \u001b[1;33m\u001b[0m\u001b[0m\n\u001b[0;32m   1575\u001b[0m     \u001b[0m__bool__\u001b[0m \u001b[1;33m=\u001b[0m \u001b[0m__nonzero__\u001b[0m\u001b[1;33m\u001b[0m\u001b[0m\n",
      "\u001b[1;31mValueError\u001b[0m: The truth value of a Series is ambiguous. Use a.empty, a.bool(), a.item(), a.any() or a.all()."
     ]
    }
   ],
   "source": [
    "df[0] = df[0].apply(lambda x : NaN if df[0].str.contains(\"BlackisComp\", regex=False) else df[0])"
   ]
  },
  {
   "cell_type": "code",
   "execution_count": 13,
   "metadata": {},
   "outputs": [],
   "source": [
    "df[1]= df[0].str.contains('WhiteElo', regex=False)\n",
    "df[2]=df[0].str.contains('BlackElo', regex=False)\n",
    "df[3]=df[0].str.contains('Result', regex=False)\n",
    "df[4]=df[0].str.contains('1. ', regex=False)"
   ]
  },
  {
   "cell_type": "code",
   "execution_count": 14,
   "metadata": {},
   "outputs": [
    {
     "data": {
      "text/plain": [
       "(4178901,\n",
       "                                                           0      1      2  \\\n",
       " 5                                         [WhiteElo \"1740\"]   True  False   \n",
       " 6                                         [BlackElo \"1712\"]  False   True   \n",
       " 16                                           [Result \"1-0\"]  False  False   \n",
       " 17        1. d4 Nf6 2. Bg5 Ne4 3. Bh4 g5 4. Bg3 Nxg3 5. ...  False  False   \n",
       " 23                                        [WhiteElo \"1551\"]   True  False   \n",
       " 24                                        [BlackElo \"1273\"]  False   True   \n",
       " 34                                           [Result \"0-1\"]  False  False   \n",
       " 35        1. e4 e5 2. Bc4 Nf6 3. Nf3 h6 4. Nxe5 d5 5. ex...  False  False   \n",
       " 41                                        [WhiteElo \"1998\"]   True  False   \n",
       " 42                                        [BlackElo \"2052\"]  False   True   \n",
       " 53                                           [Result \"0-1\"]  False  False   \n",
       " 54        1. e4 e5 2. d4 exd4 3. Bc4 Nc6 4. Nf3 Nf6 5. e...  False  False   \n",
       " 60                                        [WhiteElo \"1567\"]   True  False   \n",
       " 61                                        [BlackElo \"1608\"]  False   True   \n",
       " 71                                           [Result \"1-0\"]  False  False   \n",
       " 72        1. e4 c5 2. Bc4 a6 3. Qh5 e6 4. Nf3 Nf6 5. Qe5...  False  False   \n",
       " 78                                        [WhiteElo \"1491\"]   True  False   \n",
       " 79                                        [BlackElo \"1617\"]  False   True   \n",
       " 89                                       [Result \"1/2-1/2\"]  False  False   \n",
       " 90        1. d4 d5 2. c4 e6 3. a3 h6 4. Nf3 Nf6 5. Bf4 c...  False  False   \n",
       " 96                                        [WhiteElo \"1513\"]   True  False   \n",
       " 97                                        [BlackElo \"1591\"]  False   True   \n",
       " 107                                          [Result \"1-0\"]  False  False   \n",
       " 108       1. d4 d6 2. c4 e6 3. Nc3 h6 4. Nf3 Nf6 5. e4 B...  False  False   \n",
       " 114                                       [WhiteElo \"1631\"]   True  False   \n",
       " 115                                       [BlackElo \"1510\"]  False   True   \n",
       " 125                                          [Result \"1-0\"]  False  False   \n",
       " 126       1. e4 e5 2. Nf3 Nc6 3. c3 h6 4. Bb5 Bc5 5. Bxc...  False  False   \n",
       " 132                                       [WhiteElo \"1544\"]   True  False   \n",
       " 133                                       [BlackElo \"1668\"]  False   True   \n",
       " ...                                                     ...    ...    ...   \n",
       " 19097754                                     [Result \"0-1\"]  False  False   \n",
       " 19097755  1. e4 d5 2. exd5 Qxd5 3. d4 c5 4. dxc5 Qxd1+ 5...  False  False   \n",
       " 19097761                                  [WhiteElo \"1714\"]   True  False   \n",
       " 19097762                                  [BlackElo \"1653\"]  False   True   \n",
       " 19097772                                     [Result \"0-1\"]  False  False   \n",
       " 19097773  1. e4 c5 2. Bc4 e6 3. c3 a6 4. Nf3 b5 5. Bb3 c...  False  False   \n",
       " 19097779                                  [WhiteElo \"1661\"]   True  False   \n",
       " 19097780                                  [BlackElo \"1648\"]  False   True   \n",
       " 19097790                                     [Result \"1-0\"]  False  False   \n",
       " 19097791  1. c4 e5 2. e3 Nc6 3. Nc3 Bc5 4. Bd3 Nf6 5. Ke...  False  False   \n",
       " 19097797                                  [WhiteElo \"1603\"]   True  False   \n",
       " 19097798                                  [BlackElo \"1531\"]  False   True   \n",
       " 19097809                                     [Result \"0-1\"]  False  False   \n",
       " 19097810  1. e4 e5 2. Nf3 d6 3. d4 Nf6 4. Nc3 Bg4 5. Bb5...  False  False   \n",
       " 19097816                                  [WhiteElo \"1238\"]   True  False   \n",
       " 19097817                                  [BlackElo \"1468\"]  False   True   \n",
       " 19097827                                     [Result \"0-1\"]  False  False   \n",
       " 19097828  1. e4 d5 2. d3 dxe4 3. dxe4 Qxd1+ 4. Kxd1 Nf6 ...  False  False   \n",
       " 19097834                                  [WhiteElo \"2842\"]   True  False   \n",
       " 19097835                                  [BlackElo \"2747\"]  False   True   \n",
       " 19097847                                     [Result \"1-0\"]  False  False   \n",
       " 19097848  1. e4 e5 2. Nf3 Nc6 3. Bb5 Nf6 4. O-O Nxe4 5. ...  False  False   \n",
       " 19097854                                  [WhiteElo \"1595\"]   True  False   \n",
       " 19097855                                  [BlackElo \"1240\"]  False   True   \n",
       " 19097865                                     [Result \"1-0\"]  False  False   \n",
       " 19097866  1. e4 e6 2. d4 c6 3. Nf3 d5 4. Nc3 Bb4 5. exd5...  False  False   \n",
       " 19097872                                  [WhiteElo \"1827\"]   True  False   \n",
       " 19097873                                  [BlackElo \"1766\"]  False   True   \n",
       " 19097884                                     [Result \"1-0\"]  False  False   \n",
       " 19097885  1. d4 d5 2. c4 c6 3. Nf3 Nf6 4. Nc3 g6 5. cxd5...  False  False   \n",
       " \n",
       "               3      4  \n",
       " 5         False  False  \n",
       " 6         False  False  \n",
       " 16         True  False  \n",
       " 17        False   True  \n",
       " 23        False  False  \n",
       " 24        False  False  \n",
       " 34         True  False  \n",
       " 35        False   True  \n",
       " 41        False  False  \n",
       " 42        False  False  \n",
       " 53         True  False  \n",
       " 54        False   True  \n",
       " 60        False  False  \n",
       " 61        False  False  \n",
       " 71         True  False  \n",
       " 72        False   True  \n",
       " 78        False  False  \n",
       " 79        False  False  \n",
       " 89         True  False  \n",
       " 90        False   True  \n",
       " 96        False  False  \n",
       " 97        False  False  \n",
       " 107        True  False  \n",
       " 108       False   True  \n",
       " 114       False  False  \n",
       " 115       False  False  \n",
       " 125        True  False  \n",
       " 126       False   True  \n",
       " 132       False  False  \n",
       " 133       False  False  \n",
       " ...         ...    ...  \n",
       " 19097754   True  False  \n",
       " 19097755  False   True  \n",
       " 19097761  False  False  \n",
       " 19097762  False  False  \n",
       " 19097772   True  False  \n",
       " 19097773  False   True  \n",
       " 19097779  False  False  \n",
       " 19097780  False  False  \n",
       " 19097790   True  False  \n",
       " 19097791  False   True  \n",
       " 19097797  False  False  \n",
       " 19097798  False  False  \n",
       " 19097809   True  False  \n",
       " 19097810  False   True  \n",
       " 19097816  False  False  \n",
       " 19097817  False  False  \n",
       " 19097827   True  False  \n",
       " 19097828  False   True  \n",
       " 19097834  False  False  \n",
       " 19097835  False  False  \n",
       " 19097847   True  False  \n",
       " 19097848  False   True  \n",
       " 19097854  False  False  \n",
       " 19097855  False  False  \n",
       " 19097865   True  False  \n",
       " 19097866  False   True  \n",
       " 19097872  False  False  \n",
       " 19097873  False  False  \n",
       " 19097884   True  False  \n",
       " 19097885  False   True  \n",
       " \n",
       " [4178901 rows x 5 columns])"
      ]
     },
     "execution_count": 14,
     "metadata": {},
     "output_type": "execute_result"
    }
   ],
   "source": [
    "d = df[(df[1]==True) | (df[2] ==True) | (df[3] == True) | (df[4] == True)]\n",
    "len(d.values), d"
   ]
  },
  {
   "cell_type": "code",
   "execution_count": 23,
   "metadata": {},
   "outputs": [],
   "source": [
    "e = np.array(d[0][:4178900])"
   ]
  },
  {
   "cell_type": "code",
   "execution_count": 24,
   "metadata": {},
   "outputs": [
    {
     "data": {
      "text/plain": [
       "array(['[WhiteElo \"1740\"]', '[BlackElo \"1712\"]', '[Result \"1-0\"]', ...,\n",
       "       '[WhiteElo \"1827\"]', '[BlackElo \"1766\"]', '[Result \"1-0\"]'],\n",
       "      dtype=object)"
      ]
     },
     "execution_count": 24,
     "metadata": {},
     "output_type": "execute_result"
    }
   ],
   "source": [
    "e"
   ]
  },
  {
   "cell_type": "code",
   "execution_count": 25,
   "metadata": {},
   "outputs": [
    {
     "data": {
      "text/plain": [
       "array([['[WhiteElo \"1740\"]', '[BlackElo \"1712\"]', '[Result \"1-0\"]',\n",
       "        '1. d4 Nf6 2. Bg5 Ne4 3. Bh4 g5 4. Bg3 Nxg3 5. fxg3 h6 6. e4 Bg7 7. Ne2 d6 8. Nec3 Bd7 9. Bb5 c6 10. Bc4 O-O 11. O-O Kh8 12. Qh5 e6 13. Nd2 d5 14. exd5 cxd5 15. Bd3 Qe7 16. Rf2 f5 17. g4 Nc6 18. gxf5 Nxd4 19. f6 Rxf6 20. Rxf6 Qxf6 21. Rf1 Qe7 22. Ne2 Be8 23. Qh3 e5 24. Nxd4 exd4 25. Nf3 Qe3+ 26. Kh1 Bf7 27. Qd7 Rf8 28. Ng1 Be6 29. Rxf8+ Bxf8 30. Qh7# {Black checkmated} 1-0'],\n",
       "       ['[WhiteElo \"1551\"]', '[BlackElo \"1273\"]', '[Result \"0-1\"]',\n",
       "        '1. e4 e5 2. Bc4 Nf6 3. Nf3 h6 4. Nxe5 d5 5. exd5 Bd6 6. O-O Bxe5 7. Re1 Qd6 8. f4 Qc5+ 9. Kh1 O-O 10. fxe5 Bg4 11. Be2 Qxd5 12. Bxg4 Ne4 13. Bf3 Nf2+ 14. Kg1 Qc5 15. Qe2 Nd3+ 16. Kf1 Nxe1 17. Qxe1 Nc6 18. d4 Qxc2 19. Na3 Qd3+ 20. Be2 Qf5+ 21. Bf3 Nxd4 22. Qf2 Qd3+ 23. Kg1 Rae8 24. Qg3 Nxf3+ 25. gxf3 Qd4+ 26. Kh1 Rxe5 27. Bxh6 Re3 28. Nc2 Qxb2 29. Nxe3 Qxa1+ 30. Kg2 Qxa2+ 31. Kh3 Qe6+ 32. Kg2 Qxh6 33. Ng4 Qd2+ 34. Kh3 f5 35. Ne5 f4 36. Qg4 Qd6 37. Qh5 Qe6+ 38. Kg2 Rf5 39. Qh4 Qxe5 40. Qd8+ Rf8 41. Qh4 Qe2+ 42. Kh3 Qxf3+ {White resigns} 0-1'],\n",
       "       ['[WhiteElo \"1998\"]', '[BlackElo \"2052\"]', '[Result \"0-1\"]',\n",
       "        '1. e4 e5 2. d4 exd4 3. Bc4 Nc6 4. Nf3 Nf6 5. e5 d5 6. Bb5 Ne4 7. Nxd4 Bd7 8. Bxc6 bxc6 9. O-O Bc5 10. c3 O-O 11. Nd2 Qh4 12. N2f3 Qh5 13. Be3 Rab8 14. Qe2 Rfe8 15. Rad1 Qg4 16. h3 Qh5 17. Kh2 f6 18. exf6 gxf6 19. Ng1 Bd6+ 20. g3 Qxe2 21. Ngxe2 Rxb2 22. Ra1 c5 23. Rfb1 Rxb1 24. Rxb1 cxd4 25. cxd4 Nxf2 26. Bxf2 Rxe2 27. Rb8+ Kf7 28. Kg1 h5 29. g4 hxg4 30. hxg4 Rxa2 {White resigns} 0-1'],\n",
       "       ...,\n",
       "       ['1. e4 d5 2. d3 dxe4 3. dxe4 Qxd1+ 4. Kxd1 Nf6 5. Bd3 e5 6. Nf3 Ng4 7. Ke1 Bc5 8. Be3 Bxe3 9. fxe3 Nxe3 10. Kd2 Nxg2 11. Rg1 Nf4 12. Rxg7 Nc6 13. Ng5 Ne6 14. Nxf7 Kf8 15. Rxh7 Rxh7 16. Nc3 Rxf7 17. Rf1 {White forfeits by disconnection} 0-1',\n",
       "        '[WhiteElo \"2842\"]', '[BlackElo \"2747\"]', '[Result \"1-0\"]'],\n",
       "       ['1. e4 e5 2. Nf3 Nc6 3. Bb5 Nf6 4. O-O Nxe4 5. d4 Nd6 6. Bxc6 dxc6 7. dxe5 Nf5 8. Qxd8+ Kxd8 9. Nc3 Bd7 10. h3 h6 11. b3 Ne7 12. Bb2 c5 13. Ne2 Ng6 14. Nd2 Kc8 15. Nc4 b5 16. Ne3 Be7 17. f4 Rd8 18. c4 b4 19. Rad1 Kb7 20. Nd5 Bf8 21. f5 Ne7 22. Nxe7 Bxe7 23. Nf4 Bc6 24. e6 Rxd1 25. Rxd1 g5 26. Nd5 Bd6 27. exf7 Rf8 28. g4 Rxf7 29. Re1 Rd7 30. Kf2 Bf8 31. Rd1 Bd6 32. a4 Rh7 33. Nf6 Re7 34. Rd3 Rf7 35. Re3 Kc8 36. Re6 Kb7 37. Ne4 Bxe4 38. Rxe4 Bf4 39. Re6 Rd7 40. f6 Rd2+ 41. Re2 Rd8 42. Kf3 Kc6 43. Re6+ Kd7 44. Re7+ Kc6 45. Ke4 Bd6 46. Re6 Rb8 47. Kf5 Kd7 48. Be5 Bf8 {Black resigns} 1-0',\n",
       "        '[WhiteElo \"1595\"]', '[BlackElo \"1240\"]', '[Result \"1-0\"]'],\n",
       "       ['1. e4 e6 2. d4 c6 3. Nf3 d5 4. Nc3 Bb4 5. exd5 Bxc3+ 6. bxc3 cxd5 7. Bd3 Bd7 8. Ne5 Bb5 9. Qh5 Nf6 10. Nxf7 {Black forfeits by disconnection} 1-0',\n",
       "        '[WhiteElo \"1827\"]', '[BlackElo \"1766\"]', '[Result \"1-0\"]']],\n",
       "      dtype=object)"
      ]
     },
     "execution_count": 25,
     "metadata": {},
     "output_type": "execute_result"
    }
   ],
   "source": [
    "np.reshape(e, (1044725,4 ))"
   ]
  },
  {
   "cell_type": "code",
   "execution_count": 84,
   "metadata": {},
   "outputs": [],
   "source": [
    "f = pd.DataFrame(np.reshape(e, (1044725,4 )))"
   ]
  },
  {
   "cell_type": "code",
   "execution_count": 85,
   "metadata": {},
   "outputs": [
    {
     "data": {
      "text/html": [
       "<div>\n",
       "<style scoped>\n",
       "    .dataframe tbody tr th:only-of-type {\n",
       "        vertical-align: middle;\n",
       "    }\n",
       "\n",
       "    .dataframe tbody tr th {\n",
       "        vertical-align: top;\n",
       "    }\n",
       "\n",
       "    .dataframe thead th {\n",
       "        text-align: right;\n",
       "    }\n",
       "</style>\n",
       "<table border=\"1\" class=\"dataframe\">\n",
       "  <thead>\n",
       "    <tr style=\"text-align: right;\">\n",
       "      <th></th>\n",
       "      <th>0</th>\n",
       "      <th>1</th>\n",
       "      <th>2</th>\n",
       "      <th>3</th>\n",
       "    </tr>\n",
       "  </thead>\n",
       "  <tbody>\n",
       "    <tr>\n",
       "      <th>0</th>\n",
       "      <td>[WhiteElo \"1740\"]</td>\n",
       "      <td>[BlackElo \"1712\"]</td>\n",
       "      <td>[Result \"1-0\"]</td>\n",
       "      <td>1. d4 Nf6 2. Bg5 Ne4 3. Bh4 g5 4. Bg3 Nxg3 5. ...</td>\n",
       "    </tr>\n",
       "    <tr>\n",
       "      <th>1</th>\n",
       "      <td>[WhiteElo \"1551\"]</td>\n",
       "      <td>[BlackElo \"1273\"]</td>\n",
       "      <td>[Result \"0-1\"]</td>\n",
       "      <td>1. e4 e5 2. Bc4 Nf6 3. Nf3 h6 4. Nxe5 d5 5. ex...</td>\n",
       "    </tr>\n",
       "    <tr>\n",
       "      <th>2</th>\n",
       "      <td>[WhiteElo \"1998\"]</td>\n",
       "      <td>[BlackElo \"2052\"]</td>\n",
       "      <td>[Result \"0-1\"]</td>\n",
       "      <td>1. e4 e5 2. d4 exd4 3. Bc4 Nc6 4. Nf3 Nf6 5. e...</td>\n",
       "    </tr>\n",
       "    <tr>\n",
       "      <th>3</th>\n",
       "      <td>[WhiteElo \"1567\"]</td>\n",
       "      <td>[BlackElo \"1608\"]</td>\n",
       "      <td>[Result \"1-0\"]</td>\n",
       "      <td>1. e4 c5 2. Bc4 a6 3. Qh5 e6 4. Nf3 Nf6 5. Qe5...</td>\n",
       "    </tr>\n",
       "    <tr>\n",
       "      <th>4</th>\n",
       "      <td>[WhiteElo \"1491\"]</td>\n",
       "      <td>[BlackElo \"1617\"]</td>\n",
       "      <td>[Result \"1/2-1/2\"]</td>\n",
       "      <td>1. d4 d5 2. c4 e6 3. a3 h6 4. Nf3 Nf6 5. Bf4 c...</td>\n",
       "    </tr>\n",
       "  </tbody>\n",
       "</table>\n",
       "</div>"
      ],
      "text/plain": [
       "                   0                  1                   2  \\\n",
       "0  [WhiteElo \"1740\"]  [BlackElo \"1712\"]      [Result \"1-0\"]   \n",
       "1  [WhiteElo \"1551\"]  [BlackElo \"1273\"]      [Result \"0-1\"]   \n",
       "2  [WhiteElo \"1998\"]  [BlackElo \"2052\"]      [Result \"0-1\"]   \n",
       "3  [WhiteElo \"1567\"]  [BlackElo \"1608\"]      [Result \"1-0\"]   \n",
       "4  [WhiteElo \"1491\"]  [BlackElo \"1617\"]  [Result \"1/2-1/2\"]   \n",
       "\n",
       "                                                   3  \n",
       "0  1. d4 Nf6 2. Bg5 Ne4 3. Bh4 g5 4. Bg3 Nxg3 5. ...  \n",
       "1  1. e4 e5 2. Bc4 Nf6 3. Nf3 h6 4. Nxe5 d5 5. ex...  \n",
       "2  1. e4 e5 2. d4 exd4 3. Bc4 Nc6 4. Nf3 Nf6 5. e...  \n",
       "3  1. e4 c5 2. Bc4 a6 3. Qh5 e6 4. Nf3 Nf6 5. Qe5...  \n",
       "4  1. d4 d5 2. c4 e6 3. a3 h6 4. Nf3 Nf6 5. Bf4 c...  "
      ]
     },
     "execution_count": 85,
     "metadata": {},
     "output_type": "execute_result"
    }
   ],
   "source": [
    "f.head()\n"
   ]
  },
  {
   "cell_type": "code",
   "execution_count": 86,
   "metadata": {},
   "outputs": [],
   "source": [
    "f['WhiteEloTF'] = f[0].apply(lambda row : True if \"WhiteElo\" in row else False)\n",
    "f['BlackEloTF'] = f[1].apply(lambda row : True if \"BlackElo\" in row else False)\n",
    "f['ResultTF'] = f[2].apply(lambda row : True if \"Result\" in row else False)\n",
    "f['MovesTF'] = f[3].apply(lambda row : True if \"1. \" in row else False)"
   ]
  },
  {
   "cell_type": "code",
   "execution_count": 99,
   "metadata": {},
   "outputs": [],
   "source": [
    "g = f[(f['WhiteEloTF'] == True) & (f['BlackEloTF'] == True) & (f['ResultTF'] == True) & (f['MovesTF'] == True)]"
   ]
  },
  {
   "cell_type": "code",
   "execution_count": 107,
   "metadata": {},
   "outputs": [
    {
     "name": "stderr",
     "output_type": "stream",
     "text": [
      "C:\\Users\\cwcol\\Anaconda3\\lib\\site-packages\\ipykernel_launcher.py:1: SettingWithCopyWarning: \n",
      "A value is trying to be set on a copy of a slice from a DataFrame.\n",
      "Try using .loc[row_indexer,col_indexer] = value instead\n",
      "\n",
      "See the caveats in the documentation: http://pandas.pydata.org/pandas-docs/stable/indexing.html#indexing-view-versus-copy\n",
      "  \"\"\"Entry point for launching an IPython kernel.\n"
     ]
    }
   ],
   "source": [
    "g['WhiteElo'] = g[0].str.split('\"')"
   ]
  },
  {
   "cell_type": "code",
   "execution_count": 108,
   "metadata": {},
   "outputs": [
    {
     "name": "stderr",
     "output_type": "stream",
     "text": [
      "C:\\Users\\cwcol\\Anaconda3\\lib\\site-packages\\ipykernel_launcher.py:1: SettingWithCopyWarning: \n",
      "A value is trying to be set on a copy of a slice from a DataFrame.\n",
      "Try using .loc[row_indexer,col_indexer] = value instead\n",
      "\n",
      "See the caveats in the documentation: http://pandas.pydata.org/pandas-docs/stable/indexing.html#indexing-view-versus-copy\n",
      "  \"\"\"Entry point for launching an IPython kernel.\n"
     ]
    }
   ],
   "source": [
    "g['WhiteElo'] =g['WhiteElo'].apply(lambda x : int(x[1]) )"
   ]
  },
  {
   "cell_type": "code",
   "execution_count": 109,
   "metadata": {},
   "outputs": [
    {
     "data": {
      "text/plain": [
       "1740"
      ]
     },
     "execution_count": 109,
     "metadata": {},
     "output_type": "execute_result"
    }
   ],
   "source": [
    "g['WhiteElo'][0]"
   ]
  },
  {
   "cell_type": "code",
   "execution_count": 111,
   "metadata": {},
   "outputs": [
    {
     "data": {
      "text/plain": [
       "0             23638\n",
       "1             23638\n",
       "2             23638\n",
       "3             23638\n",
       "WhiteEloTF    23638\n",
       "BlackEloTF    23638\n",
       "ResultTF      23638\n",
       "MovesTF       23638\n",
       "WhiteElo      23638\n",
       "dtype: int64"
      ]
     },
     "execution_count": 111,
     "metadata": {},
     "output_type": "execute_result"
    }
   ],
   "source": []
  },
  {
   "cell_type": "code",
   "execution_count": null,
   "metadata": {},
   "outputs": [],
   "source": []
  }
 ],
 "metadata": {
  "kernelspec": {
   "display_name": "Python 3",
   "language": "python",
   "name": "python3"
  },
  "language_info": {
   "codemirror_mode": {
    "name": "ipython",
    "version": 3
   },
   "file_extension": ".py",
   "mimetype": "text/x-python",
   "name": "python",
   "nbconvert_exporter": "python",
   "pygments_lexer": "ipython3",
   "version": "3.6.5"
  }
 },
 "nbformat": 4,
 "nbformat_minor": 2
}
